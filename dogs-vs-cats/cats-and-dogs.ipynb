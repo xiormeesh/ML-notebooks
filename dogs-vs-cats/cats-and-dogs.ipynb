{
 "cells": [
  {
   "cell_type": "markdown",
   "metadata": {},
   "source": [
    "# Downloading Data"
   ]
  },
  {
   "cell_type": "code",
   "execution_count": 1,
   "metadata": {},
   "outputs": [
    {
     "name": "stdout",
     "output_type": "stream",
     "text": [
      "Kaggle API is already configured\n"
     ]
    }
   ],
   "source": [
    "%%bash\n",
    "\n",
    "# checking if kaggle API is configured\n",
    "\n",
    "if [ ! -d ~/.kaggle/ ]; then\n",
    "\n",
    "    echo \"Kaggle credentials are not configured\"\n",
    "\n",
    "else\n",
    "\n",
    "    echo \"Kaggle API is already configured\"\n",
    "\n",
    "fi"
   ]
  },
  {
   "cell_type": "code",
   "execution_count": 5,
   "metadata": {},
   "outputs": [
    {
     "name": "stdout",
     "output_type": "stream",
     "text": [
      "Downloading dataset...\n",
      "Downloading dogs-vs-cats-redux-kernels-edition.zip to /home/jupyter/ML-notebooks/dogs-vs-cats\n",
      "\n",
      "Unzipping datasets\n"
     ]
    },
    {
     "name": "stderr",
     "output_type": "stream",
     "text": [
      "\r",
      "  0%|          | 0.00/814M [00:00<?, ?B/s]\r",
      "  1%|          | 5.00M/814M [00:00<00:39, 21.3MB/s]\r",
      "  1%|          | 9.00M/814M [00:00<00:40, 20.8MB/s]\r",
      "  4%|▍         | 33.0M/814M [00:00<00:29, 27.5MB/s]\r",
      "  5%|▌         | 41.0M/814M [00:00<00:29, 27.8MB/s]\r",
      "  7%|▋         | 57.0M/814M [00:01<00:24, 32.5MB/s]\r",
      " 10%|▉         | 81.0M/814M [00:01<00:19, 39.5MB/s]\r",
      " 13%|█▎        | 106M/814M [00:01<00:13, 53.0MB/s] \r",
      " 14%|█▍        | 117M/814M [00:01<00:13, 53.8MB/s]\r",
      " 16%|█▌        | 127M/814M [00:02<00:13, 52.5MB/s]\r",
      " 18%|█▊        | 146M/814M [00:02<00:10, 67.3MB/s]\r",
      " 19%|█▉        | 158M/814M [00:02<00:09, 69.5MB/s]\r",
      " 21%|██        | 169M/814M [00:02<00:10, 63.2MB/s]\r",
      " 22%|██▏       | 182M/814M [00:02<00:08, 75.3MB/s]\r",
      " 24%|██▎       | 192M/814M [00:02<00:09, 66.4MB/s]\r",
      " 25%|██▍       | 201M/814M [00:03<00:11, 54.5MB/s]\r",
      " 27%|██▋       | 217M/814M [00:03<00:09, 67.3MB/s]\r",
      " 29%|██▊       | 233M/814M [00:03<00:08, 72.1MB/s]\r",
      " 30%|██▉       | 242M/814M [00:03<00:08, 74.9MB/s]\r",
      " 32%|███▏      | 257M/814M [00:03<00:08, 71.2MB/s]\r",
      " 34%|███▎      | 273M/814M [00:04<00:07, 77.9MB/s]\r",
      " 35%|███▍      | 282M/814M [00:04<00:17, 32.0MB/s]\r",
      " 38%|███▊      | 313M/814M [00:05<00:13, 39.5MB/s]\r",
      " 39%|███▉      | 321M/814M [00:05<00:12, 42.4MB/s]\r",
      " 42%|████▏     | 345M/814M [00:05<00:09, 51.6MB/s]\r",
      " 43%|████▎     | 353M/814M [00:05<00:09, 49.9MB/s]\r",
      " 46%|████▋     | 377M/814M [00:05<00:07, 64.3MB/s]\r",
      " 48%|████▊     | 388M/814M [00:06<00:07, 56.6MB/s]\r",
      " 49%|████▉     | 397M/814M [00:06<00:07, 60.6MB/s]\r",
      " 50%|█████     | 409M/814M [00:06<00:06, 68.8MB/s]\r",
      " 51%|█████▏    | 418M/814M [00:06<00:12, 32.1MB/s]\r",
      " 52%|█████▏    | 425M/814M [00:08<00:27, 15.1MB/s]\r",
      " 56%|█████▌    | 457M/814M [00:08<00:19, 19.6MB/s]\r",
      " 57%|█████▋    | 463M/814M [00:09<00:21, 17.1MB/s]\r",
      " 57%|█████▋    | 467M/814M [00:10<00:44, 8.22MB/s]\r",
      " 58%|█████▊    | 472M/814M [00:11<00:48, 7.42MB/s]\r",
      " 58%|█████▊    | 475M/814M [00:11<00:38, 9.28MB/s]\r",
      " 62%|██████▏   | 505M/814M [00:11<00:25, 12.7MB/s]\r",
      " 63%|██████▎   | 513M/814M [00:11<00:21, 15.0MB/s]\r",
      " 64%|██████▍   | 521M/814M [00:12<00:18, 16.8MB/s]\r",
      " 65%|██████▌   | 529M/814M [00:12<00:16, 17.9MB/s]\r",
      " 67%|██████▋   | 545M/814M [00:12<00:12, 22.2MB/s]\r",
      " 69%|██████▉   | 561M/814M [00:13<00:09, 28.1MB/s]\r",
      " 70%|██████▉   | 569M/814M [00:13<00:08, 28.8MB/s]\r",
      " 72%|███████▏  | 585M/814M [00:13<00:07, 33.7MB/s]\r",
      " 73%|███████▎  | 597M/814M [00:13<00:05, 43.1MB/s]\r",
      " 74%|███████▍  | 604M/814M [00:14<00:05, 42.7MB/s]\r",
      " 75%|███████▍  | 610M/814M [00:14<00:05, 37.4MB/s]\r",
      " 76%|███████▌  | 617M/814M [00:14<00:05, 39.9MB/s]\r",
      " 77%|███████▋  | 625M/814M [00:14<00:04, 43.5MB/s]\r",
      " 78%|███████▊  | 633M/814M [00:14<00:04, 43.0MB/s]\r",
      " 80%|███████▉  | 649M/814M [00:14<00:03, 48.2MB/s]\r",
      " 82%|████████▏ | 664M/814M [00:15<00:02, 60.7MB/s]\r",
      " 83%|████████▎ | 673M/814M [00:15<00:03, 44.4MB/s]\r",
      " 85%|████████▍ | 689M/814M [00:15<00:02, 45.8MB/s]\r",
      " 87%|████████▋ | 707M/814M [00:15<00:01, 59.2MB/s]\r",
      " 88%|████████▊ | 717M/814M [00:16<00:01, 52.4MB/s]\r",
      " 90%|████████▉ | 729M/814M [00:16<00:01, 54.9MB/s]\r",
      " 91%|█████████ | 737M/814M [00:16<00:01, 48.1MB/s]\r",
      " 94%|█████████▎| 761M/814M [00:16<00:00, 58.3MB/s]\r",
      " 95%|█████████▍| 769M/814M [00:17<00:01, 39.7MB/s]\r",
      " 97%|█████████▋| 793M/814M [00:17<00:00, 49.7MB/s]\r",
      " 98%|█████████▊| 801M/814M [00:17<00:00, 49.9MB/s]\r",
      "100%|██████████| 814M/814M [00:17<00:00, 48.6MB/s]\n"
     ]
    }
   ],
   "source": [
    "%%bash\n",
    "\n",
    "# checking if data is downloaded\n",
    "\n",
    "if [ ! -d data/ ]; then\n",
    "\n",
    "  echo \"Downloading dataset...\"\n",
    "  kaggle competitions download dogs-vs-cats-redux-kernels-edition\n",
    "  \n",
    "  mkdir data/\n",
    "\n",
    "  echo \"Unzipping datasets\"\n",
    "  unzip -qq dogs-vs-cats-redux-kernels-edition.zip\n",
    "  unzip -qq test.zip -d data/\n",
    "  unzip -qq train.zip -d data/\n",
    "  \n",
    "  mv sample_submission.csv data/\n",
    "  \n",
    "  rm -rf test.zip train.zip dogs-vs-cats-redux-kernels-edition.zip\n",
    "\n",
    "else\n",
    "\n",
    "  echo \"Dataset already dataset downloaded.\"\n",
    "\n",
    "fi"
   ]
  },
  {
   "cell_type": "code",
   "execution_count": 15,
   "metadata": {},
   "outputs": [
    {
     "name": "stdout",
     "output_type": "stream",
     "text": [
      "Tensorflow version is 2.1.0\n",
      "Number of training images: 25000\n",
      "Number of test images: 12500\n"
     ]
    }
   ],
   "source": [
    "import numpy as np\n",
    "import pandas as pd\n",
    "import os\n",
    "\n",
    "from sklearn.model_selection import train_test_split\n",
    "\n",
    "import tensorflow as tf\n",
    "print(\"Tensorflow version is\", tf.__version__)\n",
    "\n",
    "BASE_DIR=os.getcwd()+'/data/'\n",
    "\n",
    "TRAIN_DIR = BASE_DIR + \"train/\"\n",
    "TEST_DIR = BASE_DIR + \"test/\"\n",
    "\n",
    "TRAIN_SIZE = len([name for name in os.listdir(TRAIN_DIR)])\n",
    "TEST_SIZE = len([name for name in os.listdir(TEST_DIR)])\n",
    "print(\"Number of training images:\", TRAIN_SIZE)\n",
    "print(\"Number of test images:\", TEST_SIZE)\n",
    "\n",
    "VALID_FRACTION = 0.1\n",
    "BATCH_SIZE = 100\n",
    "EPOCHS = 20\n",
    "\n",
    "IMAGE_WIDTH = IMAGE_HEIGHT = 150"
   ]
  },
  {
   "cell_type": "code",
   "execution_count": 16,
   "metadata": {},
   "outputs": [
    {
     "name": "stdout",
     "output_type": "stream",
     "text": [
      "Found 22500 validated image filenames belonging to 2 classes.\n",
      "Found 2500 validated image filenames belonging to 2 classes.\n"
     ]
    }
   ],
   "source": [
    "# creating df with train labels\n",
    "train_filenames = os.listdir(TRAIN_DIR)\n",
    "train_labels = []\n",
    "\n",
    "for filename in train_filenames:\n",
    "    label = filename.split('.')[0]\n",
    "    train_labels.append(label)\n",
    "\n",
    "train_df = pd.DataFrame({\n",
    "    'id': train_filenames,\n",
    "    'label': train_labels\n",
    "})\n",
    "\n",
    "# splitting to train & valid\n",
    "train_df, valid_df = train_test_split(train_df, test_size=VALID_FRACTION)\n",
    "\n",
    "# augmentation settings\n",
    "train_datagen = tf.keras.preprocessing.image.ImageDataGenerator(    \n",
    "    rotation_range=50,\n",
    "    width_shift_range=0.3,\n",
    "    height_shift_range=0.3,\n",
    "    rescale=1./255.,\n",
    "    shear_range=0.3,\n",
    "    zoom_range=0.3,\n",
    "    horizontal_flip=True,\n",
    "    fill_mode='nearest'\n",
    ")\n",
    "\n",
    "# not doing any data augmentation on validation test set\n",
    "valid_datagen  = tf.keras.preprocessing.image.ImageDataGenerator(rescale=1./255.)\n",
    "\n",
    "# creating train and valid generators (not using valid_split to avoid doing data augmentation on validation set)\n",
    "train_generator = train_datagen.flow_from_dataframe(\n",
    "    train_df, \n",
    "    TRAIN_DIR, \n",
    "    x_col='id',\n",
    "    y_col='label',\n",
    "    target_size=(IMAGE_WIDTH, IMAGE_HEIGHT),\n",
    "    class_mode='binary',\n",
    "    batch_size=BATCH_SIZE\n",
    ")\n",
    "\n",
    "valid_generator = valid_datagen.flow_from_dataframe(\n",
    "    valid_df, \n",
    "    TRAIN_DIR, \n",
    "    x_col='id',\n",
    "    y_col='label',\n",
    "    target_size=(IMAGE_WIDTH, IMAGE_HEIGHT),\n",
    "    class_mode='binary',\n",
    "    batch_size=BATCH_SIZE\n",
    ")"
   ]
  },
  {
   "cell_type": "code",
   "execution_count": 17,
   "metadata": {},
   "outputs": [
    {
     "name": "stdout",
     "output_type": "stream",
     "text": [
      "Model: \"sequential_1\"\n",
      "_________________________________________________________________\n",
      "Layer (type)                 Output Shape              Param #   \n",
      "=================================================================\n",
      "conv2d_4 (Conv2D)            (None, 148, 148, 32)      896       \n",
      "_________________________________________________________________\n",
      "max_pooling2d_4 (MaxPooling2 (None, 74, 74, 32)        0         \n",
      "_________________________________________________________________\n",
      "conv2d_5 (Conv2D)            (None, 72, 72, 64)        18496     \n",
      "_________________________________________________________________\n",
      "max_pooling2d_5 (MaxPooling2 (None, 36, 36, 64)        0         \n",
      "_________________________________________________________________\n",
      "conv2d_6 (Conv2D)            (None, 34, 34, 128)       73856     \n",
      "_________________________________________________________________\n",
      "max_pooling2d_6 (MaxPooling2 (None, 17, 17, 128)       0         \n",
      "_________________________________________________________________\n",
      "conv2d_7 (Conv2D)            (None, 15, 15, 128)       147584    \n",
      "_________________________________________________________________\n",
      "max_pooling2d_7 (MaxPooling2 (None, 7, 7, 128)         0         \n",
      "_________________________________________________________________\n",
      "dropout_1 (Dropout)          (None, 7, 7, 128)         0         \n",
      "_________________________________________________________________\n",
      "flatten_1 (Flatten)          (None, 6272)              0         \n",
      "_________________________________________________________________\n",
      "dense_2 (Dense)              (None, 512)               3211776   \n",
      "_________________________________________________________________\n",
      "dense_3 (Dense)              (None, 1)                 513       \n",
      "=================================================================\n",
      "Total params: 3,453,121\n",
      "Trainable params: 3,453,121\n",
      "Non-trainable params: 0\n",
      "_________________________________________________________________\n"
     ]
    }
   ],
   "source": [
    "model = tf.keras.models.Sequential([\n",
    "    # the images were resized by ImageDataGenerator 150x150 with 3 bytes color\n",
    "    tf.keras.layers.Conv2D(32, (3,3), activation='relu', input_shape=(IMAGE_WIDTH, IMAGE_HEIGHT, 3)),\n",
    "    tf.keras.layers.MaxPooling2D(2,2),\n",
    "    tf.keras.layers.Conv2D(64, (3,3), activation='relu'),\n",
    "    tf.keras.layers.MaxPooling2D(2,2), \n",
    "    tf.keras.layers.Conv2D(128, (3,3), activation='relu'), \n",
    "    tf.keras.layers.MaxPooling2D(2,2),\n",
    "    tf.keras.layers.Conv2D(128, (3,3), activation='relu'), \n",
    "    tf.keras.layers.MaxPooling2D(2,2),\n",
    "    tf.keras.layers.Dropout(0.5),\n",
    "    tf.keras.layers.Flatten(), \n",
    "    # 512 neuron hidden layer\n",
    "    tf.keras.layers.Dense(512, activation='relu'),\n",
    "    # since we have only 2 classes to predict we can use 1 neuron and sigmoid\n",
    "    tf.keras.layers.Dense(1, activation='sigmoid')  \n",
    "])\n",
    "\n",
    "model.summary()\n",
    "\n",
    "model.compile(optimizer=tf.keras.optimizers.RMSprop(lr=0.001),\n",
    "    loss='binary_crossentropy',\n",
    "    metrics = ['accuracy'])\n",
    "\n",
    "es = tf.keras.callbacks.EarlyStopping(monitor='val_loss',\n",
    "    mode='min',\n",
    "    restore_best_weights=True, \n",
    "    verbose=1,\n",
    "    patience=5)"
   ]
  },
  {
   "cell_type": "code",
   "execution_count": 18,
   "metadata": {},
   "outputs": [
    {
     "name": "stdout",
     "output_type": "stream",
     "text": [
      "WARNING:tensorflow:sample_weight modes were coerced from\n",
      "  ...\n",
      "    to  \n",
      "  ['...']\n",
      "WARNING:tensorflow:sample_weight modes were coerced from\n",
      "  ...\n",
      "    to  \n",
      "  ['...']\n",
      "Train for 225 steps, validate for 25 steps\n",
      "Epoch 1/20\n",
      "225/225 [==============================] - 158s 701ms/step - loss: 0.7118 - accuracy: 0.5478 - val_loss: 0.6555 - val_accuracy: 0.5800\n",
      "Epoch 2/20\n",
      "225/225 [==============================] - 144s 640ms/step - loss: 0.6565 - accuracy: 0.6107 - val_loss: 0.7094 - val_accuracy: 0.5688\n",
      "Epoch 3/20\n",
      "225/225 [==============================] - 147s 652ms/step - loss: 0.6246 - accuracy: 0.6520 - val_loss: 0.5408 - val_accuracy: 0.7504\n",
      "Epoch 4/20\n",
      "225/225 [==============================] - 145s 643ms/step - loss: 0.6132 - accuracy: 0.6700 - val_loss: 0.6783 - val_accuracy: 0.5964\n",
      "Epoch 5/20\n",
      "225/225 [==============================] - 145s 643ms/step - loss: 0.5928 - accuracy: 0.6840 - val_loss: 0.5120 - val_accuracy: 0.7676\n",
      "Epoch 6/20\n",
      "225/225 [==============================] - 148s 660ms/step - loss: 0.5767 - accuracy: 0.6937 - val_loss: 0.4995 - val_accuracy: 0.7576\n",
      "Epoch 7/20\n",
      "225/225 [==============================] - 146s 647ms/step - loss: 0.5632 - accuracy: 0.7101 - val_loss: 0.4696 - val_accuracy: 0.7788\n",
      "Epoch 8/20\n",
      "225/225 [==============================] - 146s 650ms/step - loss: 0.5516 - accuracy: 0.7211 - val_loss: 0.4799 - val_accuracy: 0.7656\n",
      "Epoch 9/20\n",
      "225/225 [==============================] - 146s 647ms/step - loss: 0.5395 - accuracy: 0.7265 - val_loss: 0.4492 - val_accuracy: 0.7876\n",
      "Epoch 10/20\n",
      "225/225 [==============================] - 146s 648ms/step - loss: 0.5235 - accuracy: 0.7424 - val_loss: 0.5994 - val_accuracy: 0.7212\n",
      "Epoch 11/20\n",
      "225/225 [==============================] - 145s 645ms/step - loss: 0.5036 - accuracy: 0.7557 - val_loss: 0.4205 - val_accuracy: 0.8232\n",
      "Epoch 12/20\n",
      "225/225 [==============================] - 146s 649ms/step - loss: 0.4937 - accuracy: 0.7639 - val_loss: 0.3786 - val_accuracy: 0.8480\n",
      "Epoch 13/20\n",
      "225/225 [==============================] - 147s 652ms/step - loss: 0.4786 - accuracy: 0.7733 - val_loss: 0.3686 - val_accuracy: 0.8468\n",
      "Epoch 14/20\n",
      "225/225 [==============================] - 146s 647ms/step - loss: 0.4705 - accuracy: 0.7783 - val_loss: 0.3706 - val_accuracy: 0.8388\n",
      "Epoch 15/20\n",
      "225/225 [==============================] - 146s 648ms/step - loss: 0.4629 - accuracy: 0.7847 - val_loss: 0.5140 - val_accuracy: 0.7612\n",
      "Epoch 16/20\n",
      "225/225 [==============================] - 135s 600ms/step - loss: 0.4466 - accuracy: 0.7924 - val_loss: 0.3387 - val_accuracy: 0.8512\n",
      "Epoch 17/20\n",
      "225/225 [==============================] - 134s 594ms/step - loss: 0.4384 - accuracy: 0.7960 - val_loss: 0.3813 - val_accuracy: 0.8348\n",
      "Epoch 18/20\n",
      "225/225 [==============================] - 134s 595ms/step - loss: 0.4205 - accuracy: 0.8063 - val_loss: 0.3276 - val_accuracy: 0.8544\n",
      "Epoch 19/20\n",
      "225/225 [==============================] - 133s 592ms/step - loss: 0.4134 - accuracy: 0.8094 - val_loss: 0.4894 - val_accuracy: 0.8092\n",
      "Epoch 20/20\n",
      "225/225 [==============================] - 133s 590ms/step - loss: 0.4084 - accuracy: 0.8152 - val_loss: 0.3514 - val_accuracy: 0.8508\n",
      "CPU times: user 49min 33s, sys: 1min 18s, total: 50min 51s\n",
      "Wall time: 47min 47s\n"
     ]
    }
   ],
   "source": [
    "%%time\n",
    "\n",
    "# training\n",
    "history = model.fit(train_generator,\n",
    "    validation_data=valid_generator,\n",
    "    steps_per_epoch=round(TRAIN_SIZE*(1.-VALID_FRACTION)/BATCH_SIZE),\n",
    "    validation_steps=round(TRAIN_SIZE*VALID_FRACTION/BATCH_SIZE),\n",
    "    epochs=EPOCHS,\n",
    "    callbacks=[es],\n",
    "    verbose=1)"
   ]
  },
  {
   "cell_type": "code",
   "execution_count": 25,
   "metadata": {},
   "outputs": [
    {
     "data": {
      "text/plain": [
       "Text(0.5, 1.0, 'Training and validation loss')"
      ]
     },
     "execution_count": 25,
     "metadata": {},
     "output_type": "execute_result"
    },
    {
     "data": {
      "image/png": "[encoded data removed]",
      "text/plain": [
       "<Figure size 432x288 with 1 Axes>"
      ]
     },
     "metadata": {
      "needs_background": "light"
     },
     "output_type": "display_data"
    },
    {
     "data": {
      "image/png": "[encoded data removed]",
      "text/plain": [
       "<Figure size 432x288 with 1 Axes>"
      ]
     },
     "metadata": {
      "needs_background": "light"
     },
     "output_type": "display_data"
    }
   ],
   "source": [
    "#plotting\n",
    "\n",
    "import matplotlib.pyplot as plt\n",
    "\n",
    "#-----------------------------------------------------------\n",
    "# Retrieve a list of list results on training and test data\n",
    "# sets for each training epoch\n",
    "#-----------------------------------------------------------\n",
    "acc = history.history['accuracy']\n",
    "val_acc = history.history[ 'val_accuracy']\n",
    "loss = history.history['loss']\n",
    "val_loss = history.history['val_loss']\n",
    "\n",
    "epochs   = range(len(acc)) # Get number of epochs\n",
    "\n",
    "#------------------------------------------------\n",
    "# Plot training and validation accuracy per epoch\n",
    "#------------------------------------------------\n",
    "plt.plot(epochs, acc)\n",
    "plt.plot(epochs, val_acc)\n",
    "plt.title('Training and validation accuracy')\n",
    "plt.figure()\n",
    "\n",
    "#------------------------------------------------\n",
    "# Plot training and validation loss per epoch\n",
    "#------------------------------------------------\n",
    "plt.plot(epochs, loss)\n",
    "plt.plot(epochs, val_loss)\n",
    "plt.title('Training and validation loss')"
   ]
  },
  {
   "cell_type": "code",
   "execution_count": 35,
   "metadata": {},
   "outputs": [
    {
     "name": "stdout",
     "output_type": "stream",
     "text": [
      "Found 12500 validated image filenames.\n",
      "CPU times: user 18 s, sys: 1.06 s, total: 19.1 s\n",
      "Wall time: 16.6 s\n"
     ]
    }
   ],
   "source": [
    "%%time\n",
    "\n",
    "# preparing testing data\n",
    "test_filenames = os.listdir(TEST_DIR)\n",
    "test_df = pd.DataFrame({\n",
    "    'id': test_filenames\n",
    "})\n",
    "\n",
    "test_datagen = tf.keras.preprocessing.image.ImageDataGenerator(rescale = 1.0/255.)\n",
    "\n",
    "test_generator = test_datagen.flow_from_dataframe(\n",
    "    test_df, \n",
    "    TEST_DIR, \n",
    "    x_col='id',\n",
    "    y_col=None,\n",
    "    class_mode=None,\n",
    "    target_size=(IMAGE_WIDTH, IMAGE_HEIGHT),\n",
    "    batch_size=BATCH_SIZE,\n",
    "    shuffle=False\n",
    ")\n",
    "\n",
    "yhat = model.predict_generator(test_generator, steps=np.ceil(TEST_SIZE/BATCH_SIZE))"
   ]
  },
  {
   "cell_type": "code",
   "execution_count": 36,
   "metadata": {},
   "outputs": [],
   "source": [
    "# sigmoid returns probability between 0 and 1, need to convert it to an integer class\n",
    "#yhat = [1 if y > 0.5 else 0 for y in yhat]\n",
    "\n",
    "test_df['label'] = yhat\n",
    "\n",
    "# restoring back to class names (dog|cat)\n",
    "label_map = dict((v,k) for k,v in train_generator.class_indices.items())\n",
    "test_df['label'] = test_df['label'].replace(label_map)\n",
    "\n",
    "# encoding according to submission format, 1 = dog, 0 = cat\n",
    "test_df['label'] = test_df['label'].replace({ 'dog': 1, 'cat': 0 })\n",
    "\n",
    "test_df['id'] = test_df['id'].str.split('.').str[0]\n",
    "\n",
    "test_df.to_csv('submission.csv', index=False)"
   ]
  },
  {
   "cell_type": "code",
   "execution_count": 37,
   "metadata": {},
   "outputs": [
    {
     "name": "stdout",
     "output_type": "stream",
     "text": [
      "id,label\r\n",
      "7803,0.963197648525238\r\n",
      "2752,0.9886592030525208\r\n",
      "96,0.026650508865714073\r\n",
      "4336,0.9509921669960022\r\n",
      "5821,0.997200608253479\r\n",
      "10991,0.7990306615829468\r\n",
      "909,0.8441784381866455\r\n",
      "12046,0.9266053438186646\r\n",
      "12367,0.9103294014930725\r\n"
     ]
    }
   ],
   "source": [
    "!head submission.csv"
   ]
  },
  {
   "cell_type": "code",
   "execution_count": 38,
   "metadata": {},
   "outputs": [
    {
     "name": "stdout",
     "output_type": "stream",
     "text": [
      "100%|████████████████████████████████████████| 296k/296k [00:04<00:00, 73.4kB/s]\n",
      "Successfully submitted to Dogs vs. Cats Redux: Kernels Edition"
     ]
    }
   ],
   "source": [
    "!kaggle competitions submit -c dogs-vs-cats-redux-kernels-edition -f submission.csv -m \"testing API submission\""
   ]
  },
  {
   "cell_type": "code",
   "execution_count": null,
   "metadata": {},
   "outputs": [],
   "source": []
  }
 ],
 "metadata": {
  "kernelspec": {
   "display_name": "Python 3",
   "language": "python",
   "name": "python3"
  },
  "language_info": {
   "codemirror_mode": {
    "name": "ipython",
    "version": 3
   },
   "file_extension": ".py",
   "mimetype": "text/x-python",
   "name": "python",
   "nbconvert_exporter": "python",
   "pygments_lexer": "ipython3",
   "version": "3.5.3"
  }
 },
 "nbformat": 4,
 "nbformat_minor": 2
}
